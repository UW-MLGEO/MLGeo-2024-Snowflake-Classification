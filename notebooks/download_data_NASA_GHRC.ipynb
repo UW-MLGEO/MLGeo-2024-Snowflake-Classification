{
 "cells": [
  {
   "cell_type": "markdown",
   "metadata": {},
   "source": [
    "# Downloading IMPACTS PHIPS images and P-3 aircraft meteorological/navigation data from the NASA GHRC website"
   ]
  },
  {
   "cell_type": "markdown",
   "metadata": {},
   "source": [
    "### Downloading PHIPS images (in .PNG format)\n",
    "##### The code cells below detail how to download the folders containing raw PHIPS image files for the IMPACTS flight dates of interest (2020-02-07,  2022-02-17,  2023-01-23,  2023-02-14)\n",
    "##### NOTE: Each file (one per 6-8 hour long flight) includes ***all*** images sampled at a frequency of 1 Hz for the entire duration of the flight. Please be aware that downloading time for one file alone varies between 45 minutes and 3 hours (depending on file size and network download speed) and requires ample disk storage, as the files may exceed 10 GB in size. Recommend running the below **wget** prompts in the command line (without the \"!\" in front of **wget**) to prevent the Python kernel from crashing. "
   ]
  },
  {
   "cell_type": "markdown",
   "metadata": {},
   "source": [
    "Documentation on the PHIPS instrument during IMPACTS can be found here: https://ghrc.earthdata.nasa.gov/browseui/#pub/phipsimpacts__1/docs/phipsimpacts_dataset.pdf"
   ]
  },
  {
   "cell_type": "code",
   "execution_count": 1,
   "metadata": {},
   "outputs": [],
   "source": [
    "# Importing the wget module\n",
    "import wget"
   ]
  },
  {
   "cell_type": "code",
   "execution_count": null,
   "metadata": {},
   "outputs": [],
   "source": [
    "# Download 2020-02-07 images\n",
    "!wget -r -np -nH --cut-dirs=5 -R \"index.html*\" https://ghrc.nsstc.nasa.gov/pub/fieldCampaigns/impacts/PHIPS/browse/Flight_200207/Flight_200207_processed_full_images_C1/"
   ]
  },
  {
   "cell_type": "code",
   "execution_count": null,
   "metadata": {},
   "outputs": [],
   "source": [
    "# Download 2022-02-17 images\n",
    "!wget -r -np -nH --cut-dirs=5 -R \"index.html*\" https://ghrc.nsstc.nasa.gov/pub/fieldCampaigns/impacts/PHIPS/browse/Flight_220217/Flight_220217_processed_full_images_C1/"
   ]
  },
  {
   "cell_type": "code",
   "execution_count": null,
   "metadata": {},
   "outputs": [],
   "source": [
    "# Download 2023-01-23 images\n",
    "!wget -r -np -nH --cut-dirs=5 -R \"index.html*\" https://ghrc.nsstc.nasa.gov/pub/fieldCampaigns/impacts/PHIPS/browse/Flight_230123/Flight_230123_processed_full_images_C1/"
   ]
  },
  {
   "cell_type": "code",
   "execution_count": null,
   "metadata": {},
   "outputs": [],
   "source": [
    "# Download 2023-02-14 images\n",
    "!wget -r -np -nH --cut-dirs=5 -R \"index.html*\" https://ghrc.nsstc.nasa.gov/pub/fieldCampaigns/impacts/PHIPS/browse/Flight_230214/Flight_230214_processed_full_images_C1/"
   ]
  },
  {
   "cell_type": "markdown",
   "metadata": {},
   "source": [
    "### Downloading P-3 aircraft meteorological/navigation files (in ICARTT or .ict format)\n",
    "\n",
    "##### All IMPACTS data is stored on the NASA Global Hydrometeorology Resource Center (GHRC) website. Navigate to the download page for the P-3 met/nav files using the following link: https://search.earthdata.nasa.gov/search?q=p3metnavimpacts&ghrccloud/data/\n",
    "##### After clicking on \"P-3 Meteorological and Navigation Data IMPACTS,\" all P-3 met/nav files will be listed in chronological order for each IMPACTS flight date. For each date of interest (2020-02-07, 2022-02-17, 2023-01-23, 2023-02-14), add the file to the download queue by clicking on the \"+\" button at the bottom left corner of each file. When the 4 files are added to the queue, click the blue \"download\" button at the bottom right (see image below for reference).\n",
    "\n",
    "<img src=\"https://github.com/UW-MLGEO/MLGEO2024_Snowflake_Classification/blob/main/images/Download_page_P3_nav_data.png?raw=true\" alt=\"Download_page_p3_nav_data\" width=\"800\"/>\n"
   ]
  },
  {
   "cell_type": "markdown",
   "metadata": {},
   "source": [
    "##### You will be directed to the NASA Earthdata Login page. Creating an account is free and required to download data from the NASA GHRC website (see README.md file for more information). Once logged in, you will be redirected to the download page, where you will specify how you wish to download the data (choose \"direct download\"), then click the blue \"download\" button. This will retrieve and list the files requested in the download queue, as shown below. A personalized bash script is generated automatically with the user's Earthdata credentials if the user wishes to download the data remotely in the command line. Otherwise, clicking \"Download Files\" will download the data files locally.\n",
    "\n",
    "##### NOTE: using the **wget** command to download the .ict files will result in a \"Failed to download the file. Status code: 401\" error since NASA GHRC requires authentication when downloading. \n",
    "\n",
    "<img src=\"https://github.com/UW-MLGEO/MLGEO2024_Snowflake_Classification/blob/main/images/Download_page_P3_nav_data_part2.png?raw=true\" alt=\"Download_page_p3_nav_data_part2\" width=\"1500\"/>\n"
   ]
  }
 ],
 "metadata": {
  "kernelspec": {
   "display_name": "impacts",
   "language": "python",
   "name": "python3"
  },
  "language_info": {
   "codemirror_mode": {
    "name": "ipython",
    "version": 3
   },
   "file_extension": ".py",
   "mimetype": "text/x-python",
   "name": "python",
   "nbconvert_exporter": "python",
   "pygments_lexer": "ipython3",
   "version": "3.9.12"
  }
 },
 "nbformat": 4,
 "nbformat_minor": 2
}
